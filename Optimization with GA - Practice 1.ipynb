{
 "cells": [
  {
   "cell_type": "code",
   "execution_count": 1,
   "metadata": {},
   "outputs": [],
   "source": [
    "#Libraries\n",
    "import numpy as np\n",
    "import pandas as pd\n",
    "import matplotlib.pyplot as plt\n",
    "import random as rnd\n",
    "import math"
   ]
  },
  {
   "cell_type": "code",
   "execution_count": 2,
   "metadata": {},
   "outputs": [],
   "source": [
    "#Define Objective Function\n",
    "def obj(x1,x2):\n",
    "    return 4*x1 + 3*x2"
   ]
  },
  {
   "cell_type": "code",
   "execution_count": 3,
   "metadata": {},
   "outputs": [],
   "source": [
    "#Define Constraints\n",
    "def cons1(x1,x2):\n",
    "    return x1 + x2 <=40\n",
    "def cons2(x1,x2):\n",
    "    return 2*x1 + x2 <= 60"
   ]
  },
  {
   "cell_type": "code",
   "execution_count": 10,
   "metadata": {},
   "outputs": [],
   "source": [
    "#Define Algorithm\n",
    "def gen_alg(pop_size, num_gen):\n",
    "    #initialization\n",
    "    pop = []\n",
    "    fitness_hist = []\n",
    "    \n",
    "    for i in range(pop_size):\n",
    "        x1 = rnd.uniform(0,40) #eq1, X2 = 0\n",
    "        x2 = rnd.uniform(0,60)\n",
    "        pop.append((x1,x2))\n",
    "        \n",
    "    best_sol = None\n",
    "    best_fit = float('-inf') #will take the first soln\n",
    "    \n",
    "    for gen in range(num_gen):    \n",
    "        #Evaluation\n",
    "        fitness = [obj(x1,x2) for x1, x2 in pop]\n",
    "\n",
    "        feasible_pop = [individual for individual in pop if cons1(individual[0],individual[1]) and cons2(individual[0],individual[1])]\n",
    "\n",
    "        #Selection\n",
    "        if feasible_pop:\n",
    "            feasible_fitness = [obj(x1,x2) for x1,x2 in feasible_pop]\n",
    "            parents = rnd.choices(feasible_pop, weights = feasible_fitness, k = pop_size)\n",
    "\n",
    "        else:\n",
    "            parents = []\n",
    "\n",
    "            while len(parents) < pop_size:\n",
    "                potential_parents = rnd.choice(pop,weights = fitness)\n",
    "                if cons1(potential_parents[0], potential_parents[1]) and cons2(potential_parents[0], potential_parents[1]):\n",
    "                    parents.append(potential_parents)\n",
    "        #crossover\n",
    "        offspring = []\n",
    "\n",
    "        for i in range(pop_size):\n",
    "            parent1,parent2 = rnd.choices(parents, k = 2)\n",
    "            x1_child = rnd.uniform(min(parent1[0],parent2[0]),max(parent1[0],parent2[0]))\n",
    "            x2_child = rnd.uniform(min(parent1[1],parent2[1]),max(parent1[1],parent2[1]))\n",
    "            offspring.append((x1_child,x2_child))\n",
    "            \n",
    "        #Mutation\n",
    "        mutation_rate = 1/(gen + 1) #Dynamic Mutation Rate\n",
    "        for i in range(pop_size):\n",
    "            if rnd.random()<mutation_rate: \n",
    "                offspring[i] = (rnd.uniform(0,40),rnd.uniform(0,60))\n",
    "                \n",
    "        #Elitism\n",
    "        if best_sol is not None:\n",
    "            offspring[0] = best_sol \n",
    "            \n",
    "        pop = offspring\n",
    "        \n",
    "        #Optimal Solution\n",
    "        \n",
    "        feasible_sol = [(x1,x2) for (x1,x2) in pop if cons1(x1,x2) and cons2(x1,x2)]\n",
    "        \n",
    "        if feasible_sol:\n",
    "            best_sol = max(feasible_sol, key = lambda x: obj(x[0],x[1]))\n",
    "            best_fitness = obj(best_sol[0],best_sol[1])\n",
    "            \n",
    "        fitness_hist.append(best_fitness)\n",
    "        \n",
    "        print(best_sol, best_fitness)\n",
    "    \n",
    "    \n",
    "    #plotting\n",
    "        \n",
    "    plt.plot(range(1,num_gen + 1), fitness_hist)\n",
    "    plt.show()\n",
    "        \n",
    "    return best_sol, best_fitness\n",
    "        "
   ]
  },
  {
   "cell_type": "code",
   "execution_count": 12,
   "metadata": {},
   "outputs": [
    {
     "name": "stdout",
     "output_type": "stream",
     "text": [
      "(16.701798124492736, 22.791017003326488) 135.18024350795042\n",
      "(19.01540540699023, 20.91381294967965) 138.80306047699986\n",
      "(19.01540540699023, 20.91381294967965) 138.80306047699986\n",
      "(19.01540540699023, 20.91381294967965) 138.80306047699986\n",
      "(19.01540540699023, 20.91381294967965) 138.80306047699986\n",
      "(19.01540540699023, 20.91381294967965) 138.80306047699986\n",
      "(19.01540540699023, 20.91381294967965) 138.80306047699986\n",
      "(19.01540540699023, 20.91381294967965) 138.80306047699986\n",
      "(19.01540540699023, 20.91381294967965) 138.80306047699986\n",
      "(19.01540540699023, 20.91381294967965) 138.80306047699986\n",
      "(19.01540540699023, 20.91381294967965) 138.80306047699986\n",
      "(19.01540540699023, 20.91381294967965) 138.80306047699986\n",
      "(19.01540540699023, 20.91381294967965) 138.80306047699986\n",
      "(19.01540540699023, 20.91381294967965) 138.80306047699986\n",
      "(19.01540540699023, 20.91381294967965) 138.80306047699986\n",
      "(19.01540540699023, 20.91381294967965) 138.80306047699986\n",
      "(19.01540540699023, 20.91381294967965) 138.80306047699986\n",
      "(19.720865527746312, 20.218439333364806) 139.53878011107966\n",
      "(19.720865527746312, 20.218439333364806) 139.53878011107966\n",
      "(19.720865527746312, 20.218439333364806) 139.53878011107966\n",
      "(19.720865527746312, 20.218439333364806) 139.53878011107966\n",
      "(19.720865527746312, 20.218439333364806) 139.53878011107966\n",
      "(19.720865527746312, 20.218439333364806) 139.53878011107966\n",
      "(19.720865527746312, 20.218439333364806) 139.53878011107966\n",
      "(19.720865527746312, 20.218439333364806) 139.53878011107966\n",
      "(19.720865527746312, 20.218439333364806) 139.53878011107966\n",
      "(19.720865527746312, 20.218439333364806) 139.53878011107966\n",
      "(19.720865527746312, 20.218439333364806) 139.53878011107966\n",
      "(19.720865527746312, 20.218439333364806) 139.53878011107966\n",
      "(19.720865527746312, 20.218439333364806) 139.53878011107966\n",
      "(19.720865527746312, 20.218439333364806) 139.53878011107966\n",
      "(19.720865527746312, 20.218439333364806) 139.53878011107966\n",
      "(19.720865527746312, 20.218439333364806) 139.53878011107966\n",
      "(19.720865527746312, 20.218439333364806) 139.53878011107966\n",
      "(19.720865527746312, 20.218439333364806) 139.53878011107966\n",
      "(19.720865527746312, 20.218439333364806) 139.53878011107966\n",
      "(19.720865527746312, 20.218439333364806) 139.53878011107966\n",
      "(19.720865527746312, 20.218439333364806) 139.53878011107966\n",
      "(19.720865527746312, 20.218439333364806) 139.53878011107966\n",
      "(19.720865527746312, 20.218439333364806) 139.53878011107966\n",
      "(19.720865527746312, 20.218439333364806) 139.53878011107966\n",
      "(19.720865527746312, 20.218439333364806) 139.53878011107966\n",
      "(19.720865527746312, 20.218439333364806) 139.53878011107966\n",
      "(19.720865527746312, 20.218439333364806) 139.53878011107966\n",
      "(19.720865527746312, 20.218439333364806) 139.53878011107966\n",
      "(19.720865527746312, 20.218439333364806) 139.53878011107966\n",
      "(19.720865527746312, 20.218439333364806) 139.53878011107966\n",
      "(19.720865527746312, 20.218439333364806) 139.53878011107966\n",
      "(19.720865527746312, 20.218439333364806) 139.53878011107966\n",
      "(19.720865527746312, 20.218439333364806) 139.53878011107966\n"
     ]
    },
    {
     "data": {
      "image/png": "[encoded data removed]",
      "text/plain": [
       "<Figure size 432x288 with 1 Axes>"
      ]
     },
     "metadata": {
      "needs_background": "light"
     },
     "output_type": "display_data"
    }
   ],
   "source": [
    "# Calling the Function\n",
    "\n",
    "pop_size = 1000\n",
    "num_gen = 50\n",
    "\n",
    "best_sol, best_fitness = gen_alg(pop_size, num_gen)\n",
    "\n"
   ]
  },
  {
   "cell_type": "code",
   "execution_count": null,
   "metadata": {},
   "outputs": [],
   "source": []
  },
  {
   "cell_type": "code",
   "execution_count": null,
   "metadata": {},
   "outputs": [],
   "source": []
  },
  {
   "cell_type": "code",
   "execution_count": null,
   "metadata": {},
   "outputs": [],
   "source": []
  },
  {
   "cell_type": "code",
   "execution_count": null,
   "metadata": {},
   "outputs": [],
   "source": []
  },
  {
   "cell_type": "code",
   "execution_count": null,
   "metadata": {},
   "outputs": [],
   "source": []
  }
 ],
 "metadata": {
  "kernelspec": {
   "display_name": "Python 3",
   "language": "python",
   "name": "python3"
  },
  "language_info": {
   "codemirror_mode": {
    "name": "ipython",
    "version": 3
   },
   "file_extension": ".py",
   "mimetype": "text/x-python",
   "name": "python",
   "nbconvert_exporter": "python",
   "pygments_lexer": "ipython3",
   "version": "3.7.6"
  }
 },
 "nbformat": 4,
 "nbformat_minor": 4
}
